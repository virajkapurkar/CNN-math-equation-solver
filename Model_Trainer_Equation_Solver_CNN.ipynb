{
  "nbformat": 4,
  "nbformat_minor": 0,
  "metadata": {
    "colab": {
      "name": "Model-Trainer-Equation-Solver-CNN.ipynb",
      "provenance": [],
      "collapsed_sections": []
    },
    "kernelspec": {
      "name": "python3",
      "display_name": "Python 3"
    },
    "language_info": {
      "name": "python"
    }
  },
  "cells": [
    {
      "cell_type": "code",
      "source": [
        "import numpy as np\n",
        "import cv2\n",
        "from PIL import Image\n",
        "from matplotlib import pyplot as plt\n",
        "%matplotlib inline\n",
        "import os\n",
        "from os import listdir\n",
        "from os.path import isfile, join\n",
        "import pandas as pd\n",
        "import pickle\n",
        "import keras\n",
        "from keras.models import Model\n",
        "from keras.layers import *\n",
        "from keras import optimizers\n",
        "from keras.layers import Input, Dense\n",
        "from keras.models import Sequential\n",
        "from keras.layers import Dense\n",
        "from keras.layers import Dropout\n",
        "from keras.layers import Flatten\n",
        "from keras.layers.convolutional import Conv2D\n",
        "from keras.layers.convolutional import MaxPooling2D\n",
        "from keras.utils import np_utils\n",
        "from keras import backend as K\n",
        "from keras.utils.np_utils import to_categorical"
      ],
      "metadata": {
        "id": "tsfFivhIuTxJ"
      },
      "execution_count": null,
      "outputs": []
    },
    {
      "cell_type": "code",
      "execution_count": null,
      "metadata": {
        "id": "MVolACavtUxS"
      },
      "outputs": [],
      "source": [
        "df_train=pd.read_csv('train_final.csv',index_col=False)\n",
        "labels=df_train[['784']]"
      ]
    },
    {
      "cell_type": "code",
      "source": [
        "df_train.drop(df_train.columns[[784]],axis=1,inplace=True)\n",
        "df_train.head()"
      ],
      "metadata": {
        "id": "oF6ny4pZtmic"
      },
      "execution_count": null,
      "outputs": []
    },
    {
      "cell_type": "code",
      "source": [
        "np.random.seed(1212)"
      ],
      "metadata": {
        "id": "9xJseYmBto3K"
      },
      "execution_count": null,
      "outputs": []
    },
    {
      "cell_type": "code",
      "source": [
        "labels=np.array(labels)\n",
        "cat=to_categorical(labels,num_classes=13)"
      ],
      "metadata": {
        "id": "I3nwJlfVtskW"
      },
      "execution_count": null,
      "outputs": []
    },
    {
      "cell_type": "code",
      "source": [
        "x=[]\n",
        "y=[]\n",
        "for i in range(47504):\n",
        "  sample = df_train[i:i+1]\n",
        "  if(sample.shape == (1,784)):\n",
        "     x.append(np.array(df_train[i:i+1]).reshape(1,28,28))\n",
        "     y.append(cat[i:i+1])"
      ],
      "metadata": {
        "id": "zMvmBVgKtuoZ"
      },
      "execution_count": null,
      "outputs": []
    },
    {
      "cell_type": "code",
      "source": [
        "x_train = np.array(x)\n",
        "y_train = np.array(y)"
      ],
      "metadata": {
        "id": "dbnayepftzXK"
      },
      "execution_count": null,
      "outputs": []
    },
    {
      "cell_type": "code",
      "source": [
        "y_train = y_train.reshape((47403,13))"
      ],
      "metadata": {
        "id": "GrfqcoRYt1ZF"
      },
      "execution_count": null,
      "outputs": []
    },
    {
      "cell_type": "code",
      "source": [
        "np.random.seed(7)"
      ],
      "metadata": {
        "id": "J1zhq09Gt3j5"
      },
      "execution_count": null,
      "outputs": []
    },
    {
      "cell_type": "code",
      "source": [
        "input_shape = (200,1,28,28)\n",
        "model = Sequential()\n",
        "model.add(Conv2D(filters = 30, kernel_size = (5, 5), input_shape=input_shape[1:], activation='relu', data_format='channels_first' ))\n",
        "model.add(MaxPooling2D(pool_size=(2, 2)))\n",
        "model.add(Conv2D(15, (3, 3), activation='relu'))\n",
        "model.add(MaxPooling2D(pool_size=(2, 2)))\n",
        "model.add(Dropout(0.2))\n",
        "model.add(Flatten())\n",
        "model.add(Dense(128, activation='relu'))\n",
        "model.add(Dense(50, activation='relu'))\n",
        "model.add(Dense(13, activation='softmax'))\n",
        "# Compile model\n",
        "model.compile(loss='categorical_crossentropy', optimizer='adam', metrics=['accuracy'])\n",
        "model.summary()"
      ],
      "metadata": {
        "id": "pCPoCdWrt5bS"
      },
      "execution_count": null,
      "outputs": []
    },
    {
      "cell_type": "code",
      "source": [
        "model.fit(x = x_train, y = y_train, epochs=10, batch_size=200, shuffle=True,verbose=1)"
      ],
      "metadata": {
        "id": "vuE9EwI6t-7P"
      },
      "execution_count": null,
      "outputs": []
    },
    {
      "cell_type": "code",
      "source": [
        "model_json = model.to_json()\n",
        "with open(\"model_final.json\", \"w\") as json_file:\n",
        "    json_file.write(model_json)\n",
        "# serialize weights to HDF5\n",
        "model.save_weights(\"model_final.h5\")"
      ],
      "metadata": {
        "id": "0E7kfEVtuBwx"
      },
      "execution_count": null,
      "outputs": []
    }
  ]
}