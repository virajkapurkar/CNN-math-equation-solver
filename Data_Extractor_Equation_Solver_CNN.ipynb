{
  "cells": [
    {
      "cell_type": "code",
      "execution_count": 53,
      "metadata": {
        "id": "TJhKm7qtQ68I"
      },
      "outputs": [],
      "source": [
        "import numpy as np\n",
        "import cv2\n",
        "from PIL import Image\n",
        "from matplotlib import pyplot as plt\n",
        "%matplotlib inline\n",
        "import os\n",
        "from os import listdir\n",
        "from os.path import isfile, join\n",
        "import pandas as pd\n",
        "import pickle\n",
        "import keras\n",
        "from keras.models import Model\n",
        "from keras.layers import *\n",
        "from keras import optimizers\n",
        "from keras.layers import Input, Dense\n",
        "from keras.models import Sequential\n",
        "from keras.layers import Dense\n",
        "from keras.layers import Dropout\n",
        "from keras.layers import Flatten\n",
        "from keras.layers.convolutional import Conv2D\n",
        "from keras.layers.convolutional import MaxPooling2D\n",
        "from keras.utils import np_utils\n",
        "from keras import backend as K\n",
        "from keras.utils.np_utils import to_categorical"
      ]
    },
    {
      "cell_type": "code",
      "execution_count": null,
      "metadata": {
        "colab": {
          "base_uri": "https://localhost:8080/"
        },
        "id": "6ob7BxmRRKFl",
        "outputId": "9ef6acc4-5ed2-43bc-f0c5-1178478bce3c"
      },
      "outputs": [],
      "source": [
        "#download the data\n",
        "!wget https://github.com/virajkapurkar/CNN-math-equation-solver/blob/main/training-images.zip?raw=true"
      ]
    },
    {
      "cell_type": "code",
      "execution_count": null,
      "metadata": {
        "colab": {
          "base_uri": "https://localhost:8080/"
        },
        "id": "b7ErGPYxV9AK",
        "outputId": "036f37b9-48ba-4566-bae8-6fc22597159e"
      },
      "outputs": [],
      "source": [
        "#extract the files\n",
        "!unzip \"/content/training-images.zip?raw=true\" -d \"/content/train_data\""
      ]
    },
    {
      "cell_type": "code",
      "execution_count": 27,
      "metadata": {
        "id": "uuXV2Hl8WjqF"
      },
      "outputs": [],
      "source": [
        "def load_images_from_folder(folder):\n",
        "    train_data=[]\n",
        "    for filename in os.listdir(folder):\n",
        "        img = cv2.imread(os.path.join(folder,filename),cv2.IMREAD_GRAYSCALE)\n",
        "        img= cv2.bitwise_not(img)\n",
        "        if img is not None:\n",
        "            ret,thresh=cv2.threshold(img,127,255,cv2.THRESH_BINARY)\n",
        "            ctrs,heir=cv2.findContours(thresh,cv2.RETR_EXTERNAL,cv2.CHAIN_APPROX_NONE)\n",
        "            cnt=sorted(ctrs, key=lambda ctr: cv2.boundingRect(ctr)[0])\n",
        "            w=int(28)\n",
        "            h=int(28)\n",
        "            maxi=0\n",
        "            for c in cnt:\n",
        "                x,y,w,h=cv2.boundingRect(c)\n",
        "                maxi=max(w*h,maxi)\n",
        "                if maxi==w*h:\n",
        "                    x_max=x\n",
        "                    y_max=y\n",
        "                    w_max=w\n",
        "                    h_max=h\n",
        "            im_crop= thresh[y_max:y_max+h_max+10, x_max:x_max+w_max+10]\n",
        "            im_resize = cv2.resize(im_crop,(28,28))\n",
        "            im_resize=np.reshape(im_resize,(784,1))\n",
        "            train_data.append(im_resize)\n",
        "    return train_data"
      ]
    },
    {
      "cell_type": "code",
      "execution_count": 28,
      "metadata": {
        "id": "hpMj_Qu1aDLc"
      },
      "outputs": [],
      "source": [
        "data=[]"
      ]
    },
    {
      "cell_type": "code",
      "execution_count": 29,
      "metadata": {
        "id": "ATSNbBHxaIts"
      },
      "outputs": [],
      "source": [
        "#assign '-'=10\n",
        "data=load_images_from_folder('/content/train_data/training-images/-')\n",
        "len(data)\n",
        "for i in range(0,len(data)):\n",
        "    data[i]=np.append(data[i],['10'])"
      ]
    },
    {
      "cell_type": "code",
      "execution_count": 31,
      "metadata": {
        "id": "1WHDpockaV5T"
      },
      "outputs": [],
      "source": [
        "#assign + = 11\n",
        "data11=load_images_from_folder('/content/train_data/training-images/+')\n",
        "\n",
        "for i in range(0,len(data11)):\n",
        "    data11[i]=np.append(data11[i],['11'])\n",
        "data=np.concatenate((data,data11))"
      ]
    },
    {
      "cell_type": "code",
      "execution_count": 32,
      "metadata": {
        "id": "104ddjTAaYXy"
      },
      "outputs": [],
      "source": [
        "data0=load_images_from_folder('/content/train_data/training-images/0')\n",
        "for i in range(0,len(data0)):\n",
        "    data0[i]=np.append(data0[i],['0'])\n",
        "data=np.concatenate((data,data0))"
      ]
    },
    {
      "cell_type": "code",
      "execution_count": 33,
      "metadata": {
        "id": "NbmJi3yHabng"
      },
      "outputs": [],
      "source": [
        "data1=load_images_from_folder('/content/train_data/training-images/1')\n",
        "\n",
        "for i in range(0,len(data1)):\n",
        "    data1[i]=np.append(data1[i],['1'])\n",
        "data=np.concatenate((data,data1))"
      ]
    },
    {
      "cell_type": "code",
      "execution_count": 34,
      "metadata": {
        "id": "EgwzPckeaeE2"
      },
      "outputs": [],
      "source": [
        "data2=load_images_from_folder('/content/train_data/training-images/2')\n",
        "\n",
        "for i in range(0,len(data2)):\n",
        "    data2[i]=np.append(data2[i],['2'])\n",
        "data=np.concatenate((data,data2))"
      ]
    },
    {
      "cell_type": "code",
      "execution_count": 35,
      "metadata": {
        "id": "Z6Lgj4_WahPL"
      },
      "outputs": [],
      "source": [
        "data3=load_images_from_folder('/content/train_data/training-images/3')\n",
        "\n",
        "for i in range(0,len(data3)):\n",
        "    data3[i]=np.append(data3[i],['3'])\n",
        "data=np.concatenate((data,data3))"
      ]
    },
    {
      "cell_type": "code",
      "execution_count": 36,
      "metadata": {
        "id": "5PD8KnkrajNS"
      },
      "outputs": [],
      "source": [
        "data4=load_images_from_folder('/content/train_data/training-images/4')\n",
        "\n",
        "for i in range(0,len(data4)):\n",
        "    data4[i]=np.append(data4[i],['4'])\n",
        "data=np.concatenate((data,data4))"
      ]
    },
    {
      "cell_type": "code",
      "execution_count": 37,
      "metadata": {
        "id": "7a8RN7Q6alMu"
      },
      "outputs": [],
      "source": [
        "data5=load_images_from_folder('/content/train_data/training-images/5')\n",
        "\n",
        "for i in range(0,len(data5)):\n",
        "    data5[i]=np.append(data5[i],['5'])\n",
        "data=np.concatenate((data,data5))"
      ]
    },
    {
      "cell_type": "code",
      "execution_count": 38,
      "metadata": {
        "id": "KgbOayT3aoyD"
      },
      "outputs": [],
      "source": [
        "data6=load_images_from_folder('/content/train_data/training-images/6')\n",
        "\n",
        "for i in range(0,len(data6)):\n",
        "    data6[i]=np.append(data6[i],['6'])\n",
        "data=np.concatenate((data,data6))"
      ]
    },
    {
      "cell_type": "code",
      "execution_count": 39,
      "metadata": {
        "id": "wepVuMkdaqID"
      },
      "outputs": [],
      "source": [
        "data7=load_images_from_folder('/content/train_data/training-images/7')\n",
        "\n",
        "for i in range(0,len(data7)):\n",
        "    data7[i]=np.append(data7[i],['7'])\n",
        "data=np.concatenate((data,data7))"
      ]
    },
    {
      "cell_type": "code",
      "execution_count": 40,
      "metadata": {
        "id": "xFnt1tkXavmf"
      },
      "outputs": [],
      "source": [
        "data8=load_images_from_folder('/content/train_data/training-images/8')\n",
        "\n",
        "for i in range(0,len(data8)):\n",
        "    data8[i]=np.append(data8[i],['8'])\n",
        "data=np.concatenate((data,data8))"
      ]
    },
    {
      "cell_type": "code",
      "execution_count": 41,
      "metadata": {
        "id": "bSOhnUtdaxg4"
      },
      "outputs": [],
      "source": [
        "data9=load_images_from_folder('/content/train_data/training-images/9')\n",
        "\n",
        "for i in range(0,len(data9)):\n",
        "    data9[i]=np.append(data9[i],['9'])\n",
        "data=np.concatenate((data,data9))"
      ]
    },
    {
      "cell_type": "code",
      "execution_count": 42,
      "metadata": {
        "id": "L5-fUKcRazQW"
      },
      "outputs": [],
      "source": [
        "#assign * = 12\n",
        "data12=load_images_from_folder('/content/train_data/training-images/times')\n",
        "\n",
        "for i in range(0,len(data12)):\n",
        "    data12[i]=np.append(data12[i],['12'])\n",
        "data=np.concatenate((data,data12))"
      ]
    },
    {
      "cell_type": "code",
      "execution_count": 43,
      "metadata": {
        "id": "wgEvFcXpa1U8"
      },
      "outputs": [],
      "source": [
        "df=pd.DataFrame(data,index=None)\n",
        "df.to_csv('train_final.csv',index=False)"
      ]
    }
  ],
  "metadata": {
    "colab": {
      "collapsed_sections": [],
      "name": "Data-Extractor-Equation-Solver-CNN.ipynb",
      "provenance": []
    },
    "kernelspec": {
      "display_name": "Python 3",
      "name": "python3"
    },
    "language_info": {
      "name": "python"
    }
  },
  "nbformat": 4,
  "nbformat_minor": 0
}
